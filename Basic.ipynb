{
 "cells": [
  {
   "cell_type": "code",
   "execution_count": 1,
   "id": "6f809e91-ec21-42fd-a088-399bdefa8921",
   "metadata": {},
   "outputs": [
    {
     "data": {
      "text/plain": [
       "36"
      ]
     },
     "execution_count": 1,
     "metadata": {},
     "output_type": "execute_result"
    }
   ],
   "source": [
    "6*6"
   ]
  },
  {
   "cell_type": "code",
   "execution_count": 2,
   "id": "23b95fc2-1400-40cb-87e6-8af58cb4e85e",
   "metadata": {},
   "outputs": [
    {
     "name": "stdout",
     "output_type": "stream",
     "text": [
      "20\n"
     ]
    }
   ],
   "source": [
    "print(20)"
   ]
  },
  {
   "cell_type": "code",
   "execution_count": 3,
   "id": "5c1509e9-54cd-425b-9ec8-a6a3fa13d337",
   "metadata": {},
   "outputs": [
    {
     "name": "stdout",
     "output_type": "stream",
     "text": [
      "welcome our mobile phone\n"
     ]
    }
   ],
   "source": [
    "print(\"welcome our mobile phone\")"
   ]
  },
  {
   "cell_type": "code",
   "execution_count": 4,
   "id": "0602cdbe-4fa5-484e-a11d-a2a1008d6791",
   "metadata": {},
   "outputs": [
    {
     "name": "stdout",
     "output_type": "stream",
     "text": [
      "5\n"
     ]
    }
   ],
   "source": [
    "x = 5\n",
    "print(x)"
   ]
  },
  {
   "cell_type": "code",
   "execution_count": 8,
   "id": "6cd35070-f019-46bf-a21b-056a127f4dd9",
   "metadata": {},
   "outputs": [
    {
     "name": "stdout",
     "output_type": "stream",
     "text": [
      "Pranjul verma\n",
      "5\n"
     ]
    }
   ],
   "source": [
    "name = \"Pranjul verma\"\n",
    "print(name)\n",
    "print(x)"
   ]
  },
  {
   "cell_type": "code",
   "execution_count": 10,
   "id": "4a5c32e1-2d61-4da9-82e5-e479565c2c46",
   "metadata": {},
   "outputs": [
    {
     "name": "stdout",
     "output_type": "stream",
     "text": [
      "puttan\n",
      "pranjul\n",
      "verma\n",
      "kumar\n"
     ]
    }
   ],
   "source": [
    "x= \"puttan\"\n",
    "y=\"pranjul\"\n",
    "a= \"verma\"\n",
    "b= \"kumar\"\n",
    "print(x)\n",
    "print(y)\n",
    "print(a)\n",
    "print(b)\n"
   ]
  },
  {
   "cell_type": "code",
   "execution_count": 11,
   "id": "1919820f-74b4-48e5-b756-15bf8b097fcc",
   "metadata": {},
   "outputs": [
    {
     "name": "stdout",
     "output_type": "stream",
     "text": [
      "<class 'int'>\n"
     ]
    }
   ],
   "source": [
    "Data types\n",
    "x = 5\n",
    "print(type(x))"
   ]
  },
  {
   "cell_type": "code",
   "execution_count": 13,
   "id": "92b24e39-e2f7-4544-aeb3-b3285182e923",
   "metadata": {},
   "outputs": [
    {
     "name": "stdout",
     "output_type": "stream",
     "text": [
      "<class 'str'>\n"
     ]
    }
   ],
   "source": [
    "y = \"A\"\n",
    "print(type(y))"
   ]
  },
  {
   "cell_type": "code",
   "execution_count": 16,
   "id": "79adeed6-1241-4c95-9b62-60eac47e01cd",
   "metadata": {},
   "outputs": [
    {
     "name": "stdout",
     "output_type": "stream",
     "text": [
      "<class 'float'>\n"
     ]
    }
   ],
   "source": [
    "a = 23.3\n",
    "print(type(a))"
   ]
  },
  {
   "cell_type": "code",
   "execution_count": 17,
   "id": "707c8cf3-6bcb-4551-bc58-06a2c19b5c7c",
   "metadata": {},
   "outputs": [
    {
     "name": "stdout",
     "output_type": "stream",
     "text": [
      "<class 'complex'>\n"
     ]
    }
   ],
   "source": [
    "d = 2j\n",
    "print(type(d))"
   ]
  },
  {
   "cell_type": "code",
   "execution_count": 20,
   "id": "150200d6-69b7-440e-a365-28287cb60918",
   "metadata": {},
   "outputs": [
    {
     "name": "stdout",
     "output_type": "stream",
     "text": [
      "<class 'list'>\n",
      "['welcome ', 'to my', 'youtube', 'channle']\n"
     ]
    }
   ],
   "source": [
    "e = [\"welcome \", \"to my\",\"youtube\", \"channle\"]\n",
    "print(type(e))\n",
    "print(e)"
   ]
  },
  {
   "cell_type": "code",
   "execution_count": 23,
   "id": "5c5e3abc-d8a9-4230-bec7-c18f34e5a44e",
   "metadata": {},
   "outputs": [
    {
     "name": "stdout",
     "output_type": "stream",
     "text": [
      "('welcome', 'my class', 'room')\n",
      "<class 'tuple'>\n"
     ]
    }
   ],
   "source": [
    "f =(\"welcome\", \"my class\", \"room\")\n",
    "print(f)\n",
    "print(type(f))"
   ]
  },
  {
   "cell_type": "code",
   "execution_count": 24,
   "id": "b794a293-9787-46d6-b144-b55b82d45711",
   "metadata": {},
   "outputs": [
    {
     "name": "stdout",
     "output_type": "stream",
     "text": [
      "<class 'set'>\n"
     ]
    }
   ],
   "source": [
    "g = {\"name\", \"pranjul\", \"verma\"}\n",
    "print(type(g))"
   ]
  },
  {
   "cell_type": "code",
   "execution_count": 25,
   "id": "3eef7849-378f-437c-b689-6825643ae7cb",
   "metadata": {},
   "outputs": [
    {
     "name": "stdout",
     "output_type": "stream",
     "text": [
      "range(0, 10)\n"
     ]
    }
   ],
   "source": [
    "h = range(10)\n",
    "print(h)"
   ]
  },
  {
   "cell_type": "code",
   "execution_count": 26,
   "id": "ff821617-fd12-422c-b747-51700acf66b2",
   "metadata": {},
   "outputs": [
    {
     "name": "stdout",
     "output_type": "stream",
     "text": [
      "<class 'bool'>\n"
     ]
    }
   ],
   "source": [
    "x = True\n",
    "y = False\n",
    "\n",
    "print(type(x))\n"
   ]
  },
  {
   "cell_type": "code",
   "execution_count": 30,
   "id": "e7721a4a-b830-44c5-a8eb-11e72f674ccd",
   "metadata": {},
   "outputs": [
    {
     "name": "stdout",
     "output_type": "stream",
     "text": [
      "you are an adult.\n"
     ]
    }
   ],
   "source": [
    "\n",
    "age = 50\n",
    "if age >= 18:\n",
    "    print(\"you are an adult.\")\n",
    "else:\n",
    "    print(\"not an adult.\")\n"
   ]
  },
  {
   "cell_type": "code",
   "execution_count": 33,
   "id": "9fe4c11d-cae3-4980-b6bf-5a80075a5b79",
   "metadata": {},
   "outputs": [
    {
     "name": "stdout",
     "output_type": "stream",
     "text": [
      "your grade is  A\n"
     ]
    }
   ],
   "source": [
    "score = 95\n",
    "if score >= 90:\n",
    "    grade = 'A'\n",
    "elif score >= 80:\n",
    "    grade = 'B'\n",
    "elif score >= 70:\n",
    "    grade = 'C'\n",
    "else:\n",
    "    grade = 'D'\n",
    "print(\"your grade is \", grade)"
   ]
  },
  {
   "cell_type": "code",
   "execution_count": 39,
   "id": "69dcbda1-4055-4940-9825-7aae51a2e13b",
   "metadata": {},
   "outputs": [
    {
     "name": "stdout",
     "output_type": "stream",
     "text": [
      "count is 5\n",
      "count is 6\n",
      "count is 7\n",
      "count is 8\n",
      "count is 9\n"
     ]
    }
   ],
   "source": [
    "count= 5\n",
    "while count <10:\n",
    "    print(\"count is\", count)\n",
    "    count +=1"
   ]
  },
  {
   "cell_type": "code",
   "execution_count": 42,
   "id": "1e7eab5d-7cd7-4920-9fcc-5d330c593355",
   "metadata": {},
   "outputs": [
    {
     "name": "stdout",
     "output_type": "stream",
     "text": [
      "1\n",
      "2\n",
      "3\n",
      "4\n",
      "5\n",
      "6\n",
      "7\n",
      "8\n",
      "9\n",
      "10\n"
     ]
    }
   ],
   "source": [
    "i =1\n",
    "n=10\n",
    "while i <= n:\n",
    "    print(i)\n",
    "    i = i+1"
   ]
  },
  {
   "cell_type": "code",
   "execution_count": 45,
   "id": "04bb1774-787f-469b-b3ea-db548dd4e876",
   "metadata": {},
   "outputs": [
    {
     "name": "stdout",
     "output_type": "stream",
     "text": [
      "apple\n",
      "Banana\n",
      "mongo\n"
     ]
    }
   ],
   "source": [
    "fruits = [\"apple\", \"Banana\", \"mongo\"]\n",
    "for x in fruits:\n",
    "    print(x)"
   ]
  },
  {
   "cell_type": "code",
   "execution_count": 46,
   "id": "1c0afb24-8a3d-4932-9dad-a9d0ffcbc232",
   "metadata": {},
   "outputs": [
    {
     "name": "stdout",
     "output_type": "stream",
     "text": [
      "0\n",
      "1\n",
      "2\n",
      "3\n"
     ]
    }
   ],
   "source": [
    "n = 4\n",
    "for i in range(0, n):\n",
    "    print(i)"
   ]
  },
  {
   "cell_type": "code",
   "execution_count": null,
   "id": "fce60847-0abb-4fc3-8b6d-d65b4bf3f38a",
   "metadata": {},
   "outputs": [],
   "source": [
    "import numpy\n",
    "import pandas"
   ]
  },
  {
   "cell_type": "code",
   "execution_count": null,
   "id": "5c5f3877-b4f6-4c0c-91d3-3a6ba89f9b42",
   "metadata": {},
   "outputs": [],
   "source": [
    "df = pd.read_csv(r'C:\\Users\\putta\\OneDrive\\Desktop\\python basic\\Product.csv')"
   ]
  },
  {
   "cell_type": "code",
   "execution_count": null,
   "id": "69bd7388-b91d-4b21-9686-61828edcd32e",
   "metadata": {},
   "outputs": [],
   "source": [
    "df.head()"
   ]
  },
  {
   "cell_type": "code",
   "execution_count": null,
   "id": "cf155391-e1c3-43db-b2d1-c11bbaa69fdb",
   "metadata": {},
   "outputs": [],
   "source": [
    "df.tail()"
   ]
  },
  {
   "cell_type": "code",
   "execution_count": null,
   "id": "843fbf59-5e7d-41e1-990d-58af42b3af05",
   "metadata": {},
   "outputs": [],
   "source": [
    "df.info()"
   ]
  },
  {
   "cell_type": "code",
   "execution_count": null,
   "id": "95da5b9e-142c-4579-b127-fdb0670f5e55",
   "metadata": {},
   "outputs": [],
   "source": []
  }
 ],
 "metadata": {
  "kernelspec": {
   "display_name": "Python 3 (ipykernel)",
   "language": "python",
   "name": "python3"
  },
  "language_info": {
   "codemirror_mode": {
    "name": "ipython",
    "version": 3
   },
   "file_extension": ".py",
   "mimetype": "text/x-python",
   "name": "python",
   "nbconvert_exporter": "python",
   "pygments_lexer": "ipython3",
   "version": "3.13.3"
  }
 },
 "nbformat": 4,
 "nbformat_minor": 5
}
